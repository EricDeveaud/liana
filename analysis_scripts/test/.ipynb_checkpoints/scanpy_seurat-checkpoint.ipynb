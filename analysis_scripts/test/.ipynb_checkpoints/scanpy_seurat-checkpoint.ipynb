{
 "cells": [
  {
   "cell_type": "code",
   "execution_count": 1,
   "id": "driven-knight",
   "metadata": {},
   "outputs": [],
   "source": [
    "import scanpy as sc\n",
    "import pandas as pd\n",
    "import numpy as np\n",
    "import anndata2ri"
   ]
  },
  {
   "cell_type": "code",
   "execution_count": 2,
   "id": "three-visibility",
   "metadata": {},
   "outputs": [
    {
     "name": "stderr",
     "output_type": "stream",
     "text": [
      "WARNING: If you miss a compact list, please try `print_header`!\n"
     ]
    },
    {
     "name": "stdout",
     "output_type": "stream",
     "text": [
      "-----\n",
      "anndata     0.7.5\n",
      "scanpy      1.7.0\n",
      "sinfo       0.3.1\n",
      "-----\n",
      "PIL                 7.2.0\n",
      "anndata             0.7.5\n",
      "anndata2ri          1.0.6\n",
      "asciitree           NA\n",
      "backcall            0.2.0\n",
      "bottleneck          1.3.2\n",
      "cffi                1.14.5\n",
      "cloudpickle         1.5.0\n",
      "colorama            0.4.3\n",
      "cycler              0.10.0\n",
      "cython_runtime      NA\n",
      "cytoolz             0.10.1\n",
      "dask                2021.02.0\n",
      "dateutil            2.8.1\n",
      "decorator           4.4.2\n",
      "fasteners           NA\n",
      "get_version         2.1\n",
      "h5py                3.1.0\n",
      "igraph              0.8.3\n",
      "ipykernel           5.5.0\n",
      "ipython_genutils    0.2.0\n",
      "jedi                0.18.0\n",
      "jinja2              2.11.3\n",
      "joblib              1.0.1\n",
      "kiwisolver          1.3.1\n",
      "legacy_api_wrap     1.2\n",
      "leidenalg           0.8.3\n",
      "llvmlite            0.35.0\n",
      "markupsafe          1.1.1\n",
      "matplotlib          3.3.4\n",
      "mpl_toolkits        NA\n",
      "msgpack             1.0.0\n",
      "natsort             7.1.1\n",
      "numba               0.52.0\n",
      "numcodecs           0.7.3\n",
      "numexpr             2.7.2\n",
      "numpy               1.20.1\n",
      "packaging           20.9\n",
      "pandas              1.2.2\n",
      "parso               0.8.1\n",
      "pexpect             4.8.0\n",
      "pickleshare         0.7.5\n",
      "pkg_resources       NA\n",
      "prompt_toolkit      3.0.16\n",
      "psutil              5.7.0\n",
      "ptyprocess          0.7.0\n",
      "pygments            2.8.0\n",
      "pyparsing           2.4.7\n",
      "pytz                2020.1\n",
      "rpy2                3.4.2\n",
      "scanpy              1.7.0\n",
      "scipy               1.6.1\n",
      "setuptools_scm      NA\n",
      "sinfo               0.3.1\n",
      "six                 1.15.0\n",
      "sklearn             0.24.1\n",
      "sphinxcontrib       NA\n",
      "storemagic          NA\n",
      "tables              3.6.1\n",
      "tblib               1.6.0\n",
      "texttable           1.6.3\n",
      "tlz                 0.10.1\n",
      "toolz               0.10.0\n",
      "tornado             6.1\n",
      "traitlets           5.0.5\n",
      "typing_extensions   NA\n",
      "tzlocal             NA\n",
      "wcwidth             0.2.5\n",
      "yaml                5.4.1\n",
      "zarr                2.6.1\n",
      "zmq                 22.0.3\n",
      "zope                NA\n",
      "-----\n",
      "IPython             7.20.0\n",
      "jupyter_client      6.1.11\n",
      "jupyter_core        4.7.1\n",
      "jupyterlab          2.1.5\n",
      "notebook            6.2.0\n",
      "-----\n",
      "Python 3.8.3 (default, Jul  2 2020, 16:21:59) [GCC 7.3.0]\n",
      "Linux-5.8.0-45-generic-x86_64-with-glibc2.10\n",
      "12 logical CPU cores, x86_64\n",
      "-----\n",
      "Session information updated at 2021-03-25 10:19\n",
      "\n"
     ]
    }
   ],
   "source": [
    "# Activate the anndata2ri conversion between SingleCellExperiment and AnnData\n",
    "anndata2ri.activate()\n",
    "\n",
    "#Loading the rpy2 extension enables cell magic to be used\n",
    "#This runs R code in jupyter notebook cells\n",
    "%load_ext rpy2.ipython\n",
    "\n",
    "sc.settings.verbosity = 3\n",
    "sc.logging.print_versions()"
   ]
  },
  {
   "cell_type": "code",
   "execution_count": 3,
   "id": "optimum-disease",
   "metadata": {
    "scrolled": true
   },
   "outputs": [
    {
     "name": "stdout",
     "output_type": "stream",
     "text": [
      "class: SingleCellExperiment \n",
      "dim: 33694 27414 \n",
      "metadata(0):\n",
      "assays(2): X logcounts\n",
      "rownames(33694): RP11-34P13.3 FAM138A ... AC213203.1 FAM231B\n",
      "rowData names(5): vst.mean vst.variance vst.variance.expected\n",
      "  vst.variance.standardized vst.variable\n",
      "colnames(27414): KUL01-T_AAACCTGGTCTTTCAT KUL01-T_AAACGGGTCGGTTAAC ...\n",
      "  KUL31-N_GGGATGATCACCTCGT KUL31-N_TTAGTTCTCGGTCCGA\n",
      "colData names(9): orig.ident nCount_RNA ... Cell_subtype ident\n",
      "reducedDimNames(0):\n",
      "altExpNames(0):\n"
     ]
    }
   ],
   "source": [
    "%%R -o crc_belgian\n",
    "suppressPackageStartupMessages(library(Seurat))\n",
    "# read seurat and convert\n",
    "crc_belgian <- as.SingleCellExperiment(readRDS(\"~/Repos/ligrec_decoupleR/input/crc_data/crc_belgian.rds\"))\n",
    "crc_belgian"
   ]
  },
  {
   "cell_type": "code",
   "execution_count": 4,
   "id": "animated-astrology",
   "metadata": {},
   "outputs": [
    {
     "data": {
      "text/plain": [
       "KUL01-T_AAACCTGGTCTTTCAT    KUL01-T\n",
       "KUL01-T_AAACGGGTCGGTTAAC    KUL01-T\n",
       "KUL01-T_AAAGATGGTATAGGGC    KUL01-T\n",
       "KUL01-T_AAAGATGGTGGCCCTA    KUL01-T\n",
       "KUL01-T_AAAGCAAGTAAACACA    KUL01-T\n",
       "                             ...   \n",
       "KUL31-N_CGCTTCAGTGGTCCGT    KUL31-N\n",
       "KUL31-N_CTGTTTAAGGGTTCCC    KUL31-N\n",
       "KUL31-N_GCCTCTATCGCGGATC    KUL31-N\n",
       "KUL31-N_GGGATGATCACCTCGT    KUL31-N\n",
       "KUL31-N_TTAGTTCTCGGTCCGA    KUL31-N\n",
       "Name: ident, Length: 27414, dtype: category\n",
       "Categories (18, object): ['KUL01-B', 'KUL01-N', 'KUL01-T', 'KUL19-B', ..., 'KUL30-T', 'KUL31-B', 'KUL31-N', 'KUL31-T']"
      ]
     },
     "execution_count": 4,
     "metadata": {},
     "output_type": "execute_result"
    }
   ],
   "source": [
    "crc_belgian.obs[\"ident\"]"
   ]
  },
  {
   "cell_type": "code",
   "execution_count": 5,
   "id": "ecological-capital",
   "metadata": {},
   "outputs": [],
   "source": [
    "sc.pp.log1p(crc_belgian)"
   ]
  },
  {
   "cell_type": "code",
   "execution_count": null,
   "id": "focused-angola",
   "metadata": {},
   "outputs": [],
   "source": []
  }
 ],
 "metadata": {
  "kernelspec": {
   "display_name": "Python 3",
   "language": "python",
   "name": "python3"
  },
  "language_info": {
   "codemirror_mode": {
    "name": "ipython",
    "version": 3
   },
   "file_extension": ".py",
   "mimetype": "text/x-python",
   "name": "python",
   "nbconvert_exporter": "python",
   "pygments_lexer": "ipython3",
   "version": "3.8.3"
  }
 },
 "nbformat": 4,
 "nbformat_minor": 5
}
